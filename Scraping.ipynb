{
 "cells": [
  {
   "cell_type": "code",
   "execution_count": 53,
   "metadata": {},
   "outputs": [],
   "source": [
    "from selenium import webdriver\n",
    "from time import sleep\n",
    "import pandas as pd\n",
    "import matplotlib.pyplot as plt\n",
    "import seaborn as sns\n",
    "from selenium.webdriver.support.ui import WebDriverWait\n",
    "from selenium.webdriver.common.by import By\n",
    "from selenium.webdriver.support import expected_conditions as EC\n",
    "#import warnings\n",
    "#warnings.filterwarnings(\"ignore\")"
   ]
  },
  {
   "cell_type": "code",
   "execution_count": 63,
   "metadata": {},
   "outputs": [
    {
     "name": "stdout",
     "output_type": "stream",
     "text": [
      "Dataset is written to Excel File successfully.\n"
     ]
    }
   ],
   "source": [
    "#Informations\n",
    "\n",
    "\n",
    "titles_list = []\n",
    "msqr_list =[]\n",
    "nrooms_list = []\n",
    "loc_list = []\n",
    "prices_list = []\n",
    "\n",
    "\n",
    "for page  in range(50,100,50):\n",
    "     driver = webdriver.Chrome(executable_path=\"..\\chromedriver.exe\")\n",
    "     driver.get(\"https://www.sahibinden.com/kiralik-daire?pagingOffset=\"+ str(page) +\"&pagingSize=50&query_text_mf=kiral%C4%B1k+daire\")\n",
    "     sleep(4)\n",
    "\n",
    "     item_titles = driver.find_elements(\"xpath\",'//*[@id=\"searchResultsTable\"]/tbody/tr[*]/td[2]')\n",
    "     for title in item_titles:\n",
    "          titles_list.append(title.text)\n",
    "\n",
    "     item_msqr = driver.find_elements(\"xpath\",'//*[@id=\"searchResultsTable\"]/tbody/tr[*]/td[3]')\n",
    "     for msqr in item_msqr:\n",
    "          msqr_list.append(msqr.text)\n",
    "\n",
    "     item_nrooms = driver.find_elements(\"xpath\",'//*[@id=\"searchResultsTable\"]/tbody/tr[*]/td[4]')\n",
    "     for nrooms in item_nrooms:\n",
    "          nrooms_list.append(nrooms.text)\n",
    "\n",
    "     item_loc = driver.find_elements(\"xpath\",'//*[@id=\"searchResultsTable\"]/tbody/tr[*]/td[7]')\n",
    "     for loc in item_loc:\n",
    "          loc_list.append(loc.text)\n",
    "\n",
    "     item_price = driver.find_elements(\"xpath\",'//*[@id=\"searchResultsTable\"]/tbody/tr[*]/td[5]')\n",
    "     for price in item_price:\n",
    "          prices_list.append(price.text)\n",
    "driver.close()\n",
    "\n",
    "dataset = pd.DataFrame(zip(titles_list, msqr_list, nrooms_list, loc_list, prices_list), columns=[\"İlan Başlığı\", \"Brüt Metrekare\", \"Oda Sayısı\", \"Konum\", \"Fiyat\"])\n",
    "\n",
    "dataset\n",
    "\n",
    "excel_file = \"Kira_Ev_Dataset.xlsx\"\n",
    "\n",
    "dataset.to_excel(excel_file)\n",
    "print(\"Dataset is written to Excel File successfully.\")"
   ]
  }
 ],
 "metadata": {
  "kernelspec": {
   "display_name": "Python 3.10.8 64-bit",
   "language": "python",
   "name": "python3"
  },
  "language_info": {
   "codemirror_mode": {
    "name": "ipython",
    "version": 3
   },
   "file_extension": ".py",
   "mimetype": "text/x-python",
   "name": "python",
   "nbconvert_exporter": "python",
   "pygments_lexer": "ipython3",
   "version": "3.10.8"
  },
  "orig_nbformat": 4,
  "vscode": {
   "interpreter": {
    "hash": "409559fae46d9e0bd8affa90b6b260ea6fd473ca6062bd0a30a8d2befc2c0146"
   }
  }
 },
 "nbformat": 4,
 "nbformat_minor": 2
}
