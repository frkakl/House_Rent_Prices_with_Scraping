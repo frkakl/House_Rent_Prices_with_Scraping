{
 "cells": [
  {
   "cell_type": "code",
   "execution_count": 1,
   "metadata": {},
   "outputs": [],
   "source": [
    "from selenium import webdriver\n",
    "from time import sleep\n",
    "import pandas as pd\n",
    "from selenium.webdriver.support.ui import WebDriverWait\n",
    "from selenium.webdriver.common.by import By\n",
    "from selenium.webdriver.support import expected_conditions as EC\n",
    "#import warnings\n",
    "#warnings.filterwarnings(\"ignore\")"
   ]
  },
  {
   "cell_type": "code",
   "execution_count": 3,
   "metadata": {},
   "outputs": [
    {
     "name": "stderr",
     "output_type": "stream",
     "text": [
      "C:\\Users\\ofaru\\AppData\\Local\\Temp\\ipykernel_8416\\1557561878.py:10: DeprecationWarning: executable_path has been deprecated, please pass in a Service object\n",
      "  driver = webdriver.Chrome(executable_path=\"..\\chromedriver.exe\")\n"
     ]
    },
    {
     "ename": "KeyboardInterrupt",
     "evalue": "",
     "output_type": "error",
     "traceback": [
      "\u001b[1;31m---------------------------------------------------------------------------\u001b[0m",
      "\u001b[1;31mKeyboardInterrupt\u001b[0m                         Traceback (most recent call last)",
      "Cell \u001b[1;32mIn[3], line 10\u001b[0m\n\u001b[0;32m      6\u001b[0m prices_list \u001b[39m=\u001b[39m []\n\u001b[0;32m      9\u001b[0m \u001b[39mfor\u001b[39;00m page  \u001b[39min\u001b[39;00m \u001b[39mrange\u001b[39m(\u001b[39m50\u001b[39m,\u001b[39m90650\u001b[39m,\u001b[39m50\u001b[39m):\n\u001b[1;32m---> 10\u001b[0m      driver \u001b[39m=\u001b[39m webdriver\u001b[39m.\u001b[39;49mChrome(executable_path\u001b[39m=\u001b[39;49m\u001b[39m\"\u001b[39;49m\u001b[39m..\u001b[39;49m\u001b[39m\\\u001b[39;49m\u001b[39mchromedriver.exe\u001b[39;49m\u001b[39m\"\u001b[39;49m)\n\u001b[0;32m     11\u001b[0m      \u001b[39m#Page loop\u001b[39;00m\n\u001b[0;32m     12\u001b[0m      driver\u001b[39m.\u001b[39mget(\u001b[39m\"\u001b[39m\u001b[39mhttps://www.sahibinden.com/kiralik-daire?pagingOffset=\u001b[39m\u001b[39m\"\u001b[39m\u001b[39m+\u001b[39m \u001b[39mstr\u001b[39m(page) \u001b[39m+\u001b[39m\u001b[39m\"\u001b[39m\u001b[39m&pagingSize=50&query_text_mf=kiral\u001b[39m\u001b[39m%\u001b[39m\u001b[39mC4\u001b[39m\u001b[39m%\u001b[39m\u001b[39mB1k+daire\u001b[39m\u001b[39m\"\u001b[39m)\n",
      "File \u001b[1;32m~\\AppData\\Local\\Packages\\PythonSoftwareFoundation.Python.3.11_qbz5n2kfra8p0\\LocalCache\\local-packages\\Python311\\site-packages\\selenium\\webdriver\\chrome\\webdriver.py:81\u001b[0m, in \u001b[0;36mWebDriver.__init__\u001b[1;34m(self, executable_path, port, options, service_args, desired_capabilities, service_log_path, chrome_options, service, keep_alive)\u001b[0m\n\u001b[0;32m     78\u001b[0m \u001b[39mif\u001b[39;00m \u001b[39mnot\u001b[39;00m service:\n\u001b[0;32m     79\u001b[0m     service \u001b[39m=\u001b[39m Service(executable_path, port, service_args, service_log_path)\n\u001b[1;32m---> 81\u001b[0m \u001b[39msuper\u001b[39;49m()\u001b[39m.\u001b[39;49m\u001b[39m__init__\u001b[39;49m(\n\u001b[0;32m     82\u001b[0m     DesiredCapabilities\u001b[39m.\u001b[39;49mCHROME[\u001b[39m\"\u001b[39;49m\u001b[39mbrowserName\u001b[39;49m\u001b[39m\"\u001b[39;49m],\n\u001b[0;32m     83\u001b[0m     \u001b[39m\"\u001b[39;49m\u001b[39mgoog\u001b[39;49m\u001b[39m\"\u001b[39;49m,\n\u001b[0;32m     84\u001b[0m     port,\n\u001b[0;32m     85\u001b[0m     options,\n\u001b[0;32m     86\u001b[0m     service_args,\n\u001b[0;32m     87\u001b[0m     desired_capabilities,\n\u001b[0;32m     88\u001b[0m     service_log_path,\n\u001b[0;32m     89\u001b[0m     service,\n\u001b[0;32m     90\u001b[0m     keep_alive,\n\u001b[0;32m     91\u001b[0m )\n",
      "File \u001b[1;32m~\\AppData\\Local\\Packages\\PythonSoftwareFoundation.Python.3.11_qbz5n2kfra8p0\\LocalCache\\local-packages\\Python311\\site-packages\\selenium\\webdriver\\chromium\\webdriver.py:103\u001b[0m, in \u001b[0;36mChromiumDriver.__init__\u001b[1;34m(self, browser_name, vendor_prefix, port, options, service_args, desired_capabilities, service_log_path, service, keep_alive)\u001b[0m\n\u001b[0;32m    100\u001b[0m     \u001b[39mraise\u001b[39;00m \u001b[39mAttributeError\u001b[39;00m(\u001b[39m\"\u001b[39m\u001b[39mservice cannot be None\u001b[39m\u001b[39m\"\u001b[39m)\n\u001b[0;32m    102\u001b[0m \u001b[39mself\u001b[39m\u001b[39m.\u001b[39mservice \u001b[39m=\u001b[39m service\n\u001b[1;32m--> 103\u001b[0m \u001b[39mself\u001b[39;49m\u001b[39m.\u001b[39;49mservice\u001b[39m.\u001b[39;49mstart()\n\u001b[0;32m    105\u001b[0m \u001b[39mtry\u001b[39;00m:\n\u001b[0;32m    106\u001b[0m     \u001b[39msuper\u001b[39m()\u001b[39m.\u001b[39m\u001b[39m__init__\u001b[39m(\n\u001b[0;32m    107\u001b[0m         command_executor\u001b[39m=\u001b[39mChromiumRemoteConnection(\n\u001b[0;32m    108\u001b[0m             remote_server_addr\u001b[39m=\u001b[39m\u001b[39mself\u001b[39m\u001b[39m.\u001b[39mservice\u001b[39m.\u001b[39mservice_url,\n\u001b[1;32m   (...)\u001b[0m\n\u001b[0;32m    114\u001b[0m         options\u001b[39m=\u001b[39moptions,\n\u001b[0;32m    115\u001b[0m     )\n",
      "File \u001b[1;32m~\\AppData\\Local\\Packages\\PythonSoftwareFoundation.Python.3.11_qbz5n2kfra8p0\\LocalCache\\local-packages\\Python311\\site-packages\\selenium\\webdriver\\common\\service.py:107\u001b[0m, in \u001b[0;36mService.start\u001b[1;34m(self)\u001b[0m\n\u001b[0;32m    105\u001b[0m \u001b[39mwhile\u001b[39;00m \u001b[39mTrue\u001b[39;00m:\n\u001b[0;32m    106\u001b[0m     \u001b[39mself\u001b[39m\u001b[39m.\u001b[39massert_process_still_running()\n\u001b[1;32m--> 107\u001b[0m     \u001b[39mif\u001b[39;00m \u001b[39mself\u001b[39;49m\u001b[39m.\u001b[39;49mis_connectable():\n\u001b[0;32m    108\u001b[0m         \u001b[39mbreak\u001b[39;00m\n\u001b[0;32m    110\u001b[0m     count \u001b[39m+\u001b[39m\u001b[39m=\u001b[39m \u001b[39m1\u001b[39m\n",
      "File \u001b[1;32m~\\AppData\\Local\\Packages\\PythonSoftwareFoundation.Python.3.11_qbz5n2kfra8p0\\LocalCache\\local-packages\\Python311\\site-packages\\selenium\\webdriver\\common\\service.py:124\u001b[0m, in \u001b[0;36mService.is_connectable\u001b[1;34m(self)\u001b[0m\n\u001b[0;32m    121\u001b[0m \u001b[39mdef\u001b[39;00m \u001b[39mis_connectable\u001b[39m(\u001b[39mself\u001b[39m) \u001b[39m-\u001b[39m\u001b[39m>\u001b[39m \u001b[39mbool\u001b[39m:\n\u001b[0;32m    122\u001b[0m \u001b[39m    \u001b[39m\u001b[39m\"\"\"Establishes a socket connection to determine if the service running on\u001b[39;00m\n\u001b[0;32m    123\u001b[0m \u001b[39m    the port is accessible.\"\"\"\u001b[39;00m\n\u001b[1;32m--> 124\u001b[0m     \u001b[39mreturn\u001b[39;00m utils\u001b[39m.\u001b[39;49mis_connectable(\u001b[39mself\u001b[39;49m\u001b[39m.\u001b[39;49mport)\n",
      "File \u001b[1;32m~\\AppData\\Local\\Packages\\PythonSoftwareFoundation.Python.3.11_qbz5n2kfra8p0\\LocalCache\\local-packages\\Python311\\site-packages\\selenium\\webdriver\\common\\utils.py:109\u001b[0m, in \u001b[0;36mis_connectable\u001b[1;34m(port, host)\u001b[0m\n\u001b[0;32m    107\u001b[0m socket_ \u001b[39m=\u001b[39m \u001b[39mNone\u001b[39;00m\n\u001b[0;32m    108\u001b[0m \u001b[39mtry\u001b[39;00m:\n\u001b[1;32m--> 109\u001b[0m     socket_ \u001b[39m=\u001b[39m socket\u001b[39m.\u001b[39;49mcreate_connection((host, port), \u001b[39m1\u001b[39;49m)\n\u001b[0;32m    110\u001b[0m     result \u001b[39m=\u001b[39m \u001b[39mTrue\u001b[39;00m\n\u001b[0;32m    111\u001b[0m \u001b[39mexcept\u001b[39;00m _is_connectable_exceptions:\n",
      "File \u001b[1;32mC:\\Program Files\\WindowsApps\\PythonSoftwareFoundation.Python.3.11_3.11.496.0_x64__qbz5n2kfra8p0\\Lib\\socket.py:836\u001b[0m, in \u001b[0;36mcreate_connection\u001b[1;34m(address, timeout, source_address, all_errors)\u001b[0m\n\u001b[0;32m    834\u001b[0m \u001b[39mif\u001b[39;00m source_address:\n\u001b[0;32m    835\u001b[0m     sock\u001b[39m.\u001b[39mbind(source_address)\n\u001b[1;32m--> 836\u001b[0m sock\u001b[39m.\u001b[39;49mconnect(sa)\n\u001b[0;32m    837\u001b[0m \u001b[39m# Break explicitly a reference cycle\u001b[39;00m\n\u001b[0;32m    838\u001b[0m exceptions\u001b[39m.\u001b[39mclear()\n",
      "\u001b[1;31mKeyboardInterrupt\u001b[0m: "
     ]
    }
   ],
   "source": [
    "#Information Lists\n",
    "titles_list = []\n",
    "msqr_list =[]\n",
    "nrooms_list = []\n",
    "loc_list = []\n",
    "prices_list = []\n",
    "\n",
    "\n",
    "for page  in range(50,90650,50):\n",
    "     driver = webdriver.Chrome(executable_path=\"..\\chromedriver.exe\")\n",
    "     #Page loop\n",
    "     driver.get(\"https://www.sahibinden.com/kiralik-daire?pagingOffset=\"+ str(page) +\"&pagingSize=50&query_text_mf=kiral%C4%B1k+daire\")\n",
    "     sleep(4)\n",
    "\n",
    "     #Items\n",
    "     item_titles = driver.find_elements(\"xpath\",'//*[@id=\"searchResultsTable\"]/tbody/tr[*]/td[2]')\n",
    "     for title in item_titles:\n",
    "          titles_list.append(title.text)\n",
    "\n",
    "     item_msqr = driver.find_elements(\"xpath\",'//*[@id=\"searchResultsTable\"]/tbody/tr[*]/td[3]')\n",
    "     for msqr in item_msqr:\n",
    "          msqr_list.append(msqr.text)\n",
    "\n",
    "     item_nrooms = driver.find_elements(\"xpath\",'//*[@id=\"searchResultsTable\"]/tbody/tr[*]/td[4]')\n",
    "     for nrooms in item_nrooms:\n",
    "          nrooms_list.append(nrooms.text)\n",
    "\n",
    "     item_loc = driver.find_elements(\"xpath\",'//*[@id=\"searchResultsTable\"]/tbody/tr[*]/td[7]')\n",
    "     for loc in item_loc:\n",
    "          loc_list.append(loc.text)\n",
    "\n",
    "     item_price = driver.find_elements(\"xpath\",'//*[@id=\"searchResultsTable\"]/tbody/tr[*]/td[5]')\n",
    "     for price in item_price:\n",
    "          prices_list.append(price.text)\n",
    "driver.close()\n",
    "\n",
    "#Create dataframe\n",
    "dataset = pd.DataFrame(zip(titles_list, msqr_list, nrooms_list, loc_list, prices_list), columns=[\"Title\", \"Square Meters\", \"Number of Rooms\", \"Location\", \"Price\"])\n",
    "\n",
    "dataset[\"Price\"] = dataset[\"Price\"].str.replace(\"TL\", \"\")\n",
    "\n",
    "excel_file = \"Kira_Ev_Dataset.xlsx\"\n",
    "\n",
    "#Export to Excel\n",
    "dataset.to_excel(excel_file)\n",
    "print(\"Dataset is written to Excel File successfully.\")\n",
    "\n",
    "dataset"
   ]
  }
 ],
 "metadata": {
  "kernelspec": {
   "display_name": "Python 3",
   "language": "python",
   "name": "python3"
  },
  "language_info": {
   "codemirror_mode": {
    "name": "ipython",
    "version": 3
   },
   "file_extension": ".py",
   "mimetype": "text/x-python",
   "name": "python",
   "nbconvert_exporter": "python",
   "pygments_lexer": "ipython3",
   "version": "3.11.1 (tags/v3.11.1:a7a450f, Dec  6 2022, 19:58:39) [MSC v.1934 64 bit (AMD64)]"
  },
  "orig_nbformat": 4,
  "vscode": {
   "interpreter": {
    "hash": "09dd609b0f77b326454f7c0ce62b8e231d92d783fa701dd866ab255d9181bff4"
   }
  }
 },
 "nbformat": 4,
 "nbformat_minor": 2
}
