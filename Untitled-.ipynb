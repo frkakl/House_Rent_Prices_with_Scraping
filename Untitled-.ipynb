{
 "cells": [
  {
   "cell_type": "code",
   "execution_count": 2,
   "metadata": {},
   "outputs": [],
   "source": [
    "from selenium import webdriver\n",
    "from time import sleep\n",
    "import pandas as pd\n",
    "from selenium.webdriver.support.ui import WebDriverWait\n",
    "from selenium.webdriver.common.by import By\n",
    "from selenium.webdriver.support import expected_conditions as EC\n",
    "from selenium.webdriver.common.action_chains import ActionChains\n",
    "#import warnings\n",
    "#warnings.filterwarnings(\"ignore\")"
   ]
  },
  {
   "cell_type": "code",
   "execution_count": 12,
   "metadata": {},
   "outputs": [
    {
     "name": "stderr",
     "output_type": "stream",
     "text": [
      "C:\\Users\\ofaru\\AppData\\Local\\Temp\\ipykernel_16224\\1804484708.py:6: DeprecationWarning: executable_path has been deprecated, please pass in a Service object\n",
      "  driver = webdriver.Chrome(executable_path=\"..\\chromedriver.exe\")\n"
     ]
    },
    {
     "data": {
      "text/plain": [
       "['Kız 127 % 56,2']"
      ]
     },
     "execution_count": 12,
     "metadata": {},
     "output_type": "execute_result"
    }
   ],
   "source": [
    "#Information Lists\n",
    "baslik =[]\n",
    "kiz = []\n",
    "erkek =[]\n",
    "\n",
    "driver = webdriver.Chrome(executable_path=\"..\\chromedriver.exe\")\n",
    "driver.maximize_window()\n",
    "driver.get(\"https://yokatlas.yok.gov.tr/lisans.php?y=100910285#\")\n",
    "sleep(3)\n",
    "     #Items \n",
    "driver.find_element(By.LINK_TEXT,'Hepsini Aç').click()\n",
    "sleep(3) # sleep is must because if u dont use sleep code will not work and it will give null\n",
    "\n",
    "baslik_value = driver.find_elements(By.XPATH,'//*[@id=\"icerik_2010\"]/table/thead/tr')  \n",
    "for value in baslik_value:\n",
    "     baslik.append(value.text)\n",
    "\n",
    "kiz_value = driver.find_elements(By.XPATH,'//*[@id=\"icerik_2010\"]/table/tbody/tr[2]')  \n",
    "for value in kiz_value:\n",
    "     kiz.append(value.text)\n",
    "\n",
    "driver.close()\n",
    "#Create dataframe\n",
    "dataset = pd.DataFrame(zip(baslik, kiz), columns=[\"Başlık\", \"Kız\"])\n",
    "\n",
    "\n",
    "baslik\n",
    "kiz\n",
    "\n",
    "\n",
    "#erkek"
   ]
  },
  {
   "cell_type": "code",
   "execution_count": 13,
   "metadata": {},
   "outputs": [
    {
     "data": {
      "text/html": [
       "<div>\n",
       "<style scoped>\n",
       "    .dataframe tbody tr th:only-of-type {\n",
       "        vertical-align: middle;\n",
       "    }\n",
       "\n",
       "    .dataframe tbody tr th {\n",
       "        vertical-align: top;\n",
       "    }\n",
       "\n",
       "    .dataframe thead th {\n",
       "        text-align: right;\n",
       "    }\n",
       "</style>\n",
       "<table border=\"1\" class=\"dataframe\">\n",
       "  <thead>\n",
       "    <tr style=\"text-align: right;\">\n",
       "      <th></th>\n",
       "      <th>Başlık</th>\n",
       "      <th>Kız</th>\n",
       "    </tr>\n",
       "  </thead>\n",
       "  <tbody>\n",
       "    <tr>\n",
       "      <th>0</th>\n",
       "      <td>Kayıtlı Öğrenci Sayısı % Oran</td>\n",
       "      <td>Kız 127 % 56,2</td>\n",
       "    </tr>\n",
       "  </tbody>\n",
       "</table>\n",
       "</div>"
      ],
      "text/plain": [
       "                          Başlık             Kız\n",
       "0  Kayıtlı Öğrenci Sayısı % Oran  Kız 127 % 56,2"
      ]
     },
     "execution_count": 13,
     "metadata": {},
     "output_type": "execute_result"
    }
   ],
   "source": [
    "dataset"
   ]
  }
 ],
 "metadata": {
  "kernelspec": {
   "display_name": "Python 3",
   "language": "python",
   "name": "python3"
  },
  "language_info": {
   "codemirror_mode": {
    "name": "ipython",
    "version": 3
   },
   "file_extension": ".py",
   "mimetype": "text/x-python",
   "name": "python",
   "nbconvert_exporter": "python",
   "pygments_lexer": "ipython3",
   "version": "3.11.1"
  },
  "orig_nbformat": 4,
  "vscode": {
   "interpreter": {
    "hash": "09dd609b0f77b326454f7c0ce62b8e231d92d783fa701dd866ab255d9181bff4"
   }
  }
 },
 "nbformat": 4,
 "nbformat_minor": 2
}
